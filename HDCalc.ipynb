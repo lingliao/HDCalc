{
  "nbformat": 4,
  "nbformat_minor": 0,
  "metadata": {
    "colab": {
      "provenance": [],
      "authorship_tag": "ABX9TyPyXnAgUwsdINw8OU72UYuG",
      "include_colab_link": true
    },
    "kernelspec": {
      "name": "ir",
      "display_name": "R"
    },
    "language_info": {
      "name": "R"
    }
  },
  "cells": [
    {
      "cell_type": "markdown",
      "metadata": {
        "id": "view-in-github",
        "colab_type": "text"
      },
      "source": [
        "<a href=\"https://colab.research.google.com/github/lingliao/HDCalc/blob/main/HDCalc.ipynb\" target=\"_parent\"><img src=\"https://colab.research.google.com/assets/colab-badge.svg\" alt=\"Open In Colab\"/></a>"
      ]
    },
    {
      "cell_type": "markdown",
      "source": [
        "**Slope Index of Inequality，SII**"
      ],
      "metadata": {
        "id": "h-Nz48iWt464"
      }
    },
    {
      "cell_type": "code",
      "execution_count": null,
      "metadata": {
        "id": "QxOIBB7Ftu6p"
      },
      "outputs": [],
      "source": [
        "library(stats)"
      ]
    },
    {
      "cell_type": "code",
      "source": [
        "# Example data: ranked groups, cumulative proportions of health indicator\n",
        "ranked_groups <- c(1, 2, 3, 4, 5)  # Socioeconomic status ranked groups\n",
        "cumulative_proportions <- c(0.1, 0.3, 0.5, 0.7, 0.9)  # Cumulative proportions of health indicator\n",
        "\n",
        "# Perform linear regression\n",
        "regression <- lm(cumulative_proportions ~ ranked_groups)\n",
        "\n",
        "# Extract slope coefficient as Slope Index of Inequality\n",
        "sii <- regression$coefficients[2]  # Slope coefficient is in the second position of the regression results\n",
        "\n",
        "# Print Slope Index of Inequality\n",
        "print(paste(\"Slope Index of Inequality:\", sii))"
      ],
      "metadata": {
        "colab": {
          "base_uri": "https://localhost:8080/"
        },
        "id": "6zcxq7wqt7Th",
        "outputId": "8d03a939-9f65-4ff0-dc37-739db9c76c18"
      },
      "execution_count": null,
      "outputs": [
        {
          "output_type": "stream",
          "name": "stdout",
          "text": [
            "[1] \"Slope Index of Inequality: 0.2\"\n"
          ]
        }
      ]
    },
    {
      "cell_type": "markdown",
      "source": [
        "**Relative index of inequality**"
      ],
      "metadata": {
        "id": "Oo6aEUs1x_0w"
      }
    },
    {
      "cell_type": "code",
      "source": [
        "# Calculate the mean rate of the health indicator\n",
        "mean_rate <- mean(cumulative_proportions)\n",
        "\n",
        "# Calculate the RII\n",
        "rii <- sii / mean_rate\n",
        "\n",
        "# Print the calculated RII\n",
        "print(paste(\"Relative Index of Inequality (RII):\", rii))"
      ],
      "metadata": {
        "colab": {
          "base_uri": "https://localhost:8080/"
        },
        "id": "ym_mADuYwPKX",
        "outputId": "ce4c9d89-4a23-4ac8-e464-492334ea6478"
      },
      "execution_count": null,
      "outputs": [
        {
          "output_type": "stream",
          "name": "stdout",
          "text": [
            "[1] \"Relative Index of Inequality (RII): 0.4\"\n"
          ]
        }
      ]
    },
    {
      "cell_type": "markdown",
      "source": [
        "**index of disparties**"
      ],
      "metadata": {
        "id": "0ZdFXpXn7ptI"
      }
    },
    {
      "cell_type": "code",
      "source": [
        "# Example data: Health indicator values for two groups (Group A and Group B)\n",
        "health_values_groupA <- c(10, 15, 20, 25, 30)  # Health indicator values for Group A\n",
        "health_values_groupB <- c(5, 10, 12, 15, 18)   # Health indicator values for Group B\n",
        "\n",
        "# Calculate IoD (Difference-based)\n",
        "iod_difference <- max(health_values_groupA) - min(health_values_groupB)\n",
        "\n",
        "# Calculate IoD (Ratio-based)\n",
        "iod_ratio <- max(health_values_groupA) / min(health_values_groupB)\n",
        "\n",
        "# Print the calculated IoD values\n",
        "print(paste(\"IoD (Difference-based):\", iod_difference))\n",
        "print(paste(\"IoD (Ratio-based):\", iod_ratio))"
      ],
      "metadata": {
        "colab": {
          "base_uri": "https://localhost:8080/"
        },
        "id": "-Cx62tJ07qRc",
        "outputId": "4fead7b2-79cb-4854-b07a-9d3ea96de8cf"
      },
      "execution_count": null,
      "outputs": [
        {
          "output_type": "stream",
          "name": "stdout",
          "text": [
            "[1] \"IoD (Difference-based): 25\"\n",
            "[1] \"IoD (Ratio-based): 6\"\n"
          ]
        }
      ]
    },
    {
      "cell_type": "markdown",
      "source": [
        "**Relative concentration index(income disparities)**"
      ],
      "metadata": {
        "id": "9H0ePAlkvfxA"
      }
    },
    {
      "cell_type": "code",
      "source": [
        "# Example data: cumulative proportions of income for a subpopulation and the entire population\n",
        "E <- c(0.2, 0.4, 0.6, 0.8)  # Cumulative proportions of income in the subpopulation\n",
        "G <- c(0.1, 0.3, 0.5, 0.7)  # Cumulative proportions of income in the entire population\n",
        "\n",
        "# Calculate RCI\n",
        "RCI <- sum(E) / (sum(G) / (1 - sum(G)))\n",
        "\n",
        "# Print RCI\n",
        "print(paste(\"Relative Concentration Index (RCI):\", RCI))\n"
      ],
      "metadata": {
        "colab": {
          "base_uri": "https://localhost:8080/"
        },
        "id": "TBZXUDrWt9Eh",
        "outputId": "7850749a-d4a5-4038-cc9f-23bdc774db6a"
      },
      "execution_count": null,
      "outputs": [
        {
          "output_type": "stream",
          "name": "stdout",
          "text": [
            "[1] \"Relative Concentration Index (RCI): -0.75\"\n"
          ]
        }
      ]
    },
    {
      "cell_type": "markdown",
      "source": [
        "The RCI value can range from -1 to +1:\n",
        "\n",
        "If RCI=0, it indicates perfect equality in the distribution of income or wealth.\n",
        "If RCI>0, it suggests a concentration of income or wealth in the higher groups, indicating inequality.\n",
        "If RCI<0, it indicates a dispersion of income or wealth towards the lower groups, also indicating inequality."
      ],
      "metadata": {
        "id": "8RL50oaAvtvf"
      }
    },
    {
      "cell_type": "markdown",
      "source": [
        "**Absolute concentration index(income/economy inequalities)**"
      ],
      "metadata": {
        "id": "KcABMMxSwOL6"
      }
    },
    {
      "cell_type": "code",
      "source": [
        "# Example data: average values of a variable in different segments, cumulative proportions, and segment populations\n",
        "y_values <- c(100, 200, 300, 400, 500)  # Average values of the variable\n",
        "R_values <- c(0.1, 0.3, 0.5, 0.7, 0.9)  # Cumulative proportions\n",
        "n_values <- c(100, 150, 200, 250, 300)  # Segment populations\n",
        "\n",
        "# Calculate mean values and mean cumulative proportion\n",
        "mean_y <- mean(y_values)\n",
        "mean_R <- mean(R_values)\n",
        "\n",
        "# Calculate ACI\n",
        "ACI_numerator <- sum(y_values * R_values) - (mean_y * mean_R)\n",
        "ACI_denominator <- (sum(y_values * n_values) - (mean_y * sum(n_values)))\n",
        "ACI <- 2 * (ACI_numerator / ACI_denominator)\n",
        "\n",
        "# Print ACI\n",
        "print(paste(\"Absolute Concentration Index (ACI):\", ACI))"
      ],
      "metadata": {
        "colab": {
          "base_uri": "https://localhost:8080/"
        },
        "id": "syXrEzZFwOom",
        "outputId": "93c3754f-9620-4fe2-e7cf-90edf796ef73"
      },
      "execution_count": null,
      "outputs": [
        {
          "output_type": "stream",
          "name": "stdout",
          "text": [
            "[1] \"Absolute Concentration Index (ACI): 0.032\"\n"
          ]
        }
      ]
    },
    {
      "cell_type": "markdown",
      "source": [
        "The ACI value can range from -1 to +1:\n",
        "\n",
        "If ACI=0, it indicates perfect equality in the distribution of the variable.\n",
        "If ACI>0, it suggests a concentration of the variable in the higher segments, indicating inequality.\n",
        "If ACI<0, it indicates a dispersion of the variable towards the lower segments, also indicating inequality."
      ],
      "metadata": {
        "id": "5L_6XF0tw43N"
      }
    },
    {
      "cell_type": "markdown",
      "source": [
        "a normalized measure of relative inequality (income, health, education)"
      ],
      "metadata": {
        "id": "E8OfnEgwzQbf"
      }
    },
    {
      "cell_type": "markdown",
      "source": [
        "**between group variance**"
      ],
      "metadata": {
        "id": "73kEqoaN8xqu"
      }
    },
    {
      "cell_type": "code",
      "source": [
        "# Simulated example data: Health indicator values for three groups (Group A, B, C)\n",
        "health_values_groupA <- c(10, 15, 20, 25, 30)  # Health indicator values for Group A\n",
        "health_values_groupB <- c(5, 10, 12, 15, 18)   # Health indicator values for Group B\n",
        "health_values_groupC <- c(8, 10, 14, 17, 21)   # Health indicator values for Group C\n",
        "\n",
        "# Combine all health indicator values\n",
        "all_health_values <- c(health_values_groupA, health_values_groupB, health_values_groupC)\n",
        "\n",
        "# Calculate overall mean\n",
        "overall_mean <- mean(all_health_values)\n",
        "\n",
        "# Calculate group means\n",
        "group_means <- c(mean(health_values_groupA), mean(health_values_groupB), mean(health_values_groupC))\n",
        "\n",
        "# Calculate squared deviations of group means from overall mean\n",
        "squared_deviations <- (group_means - overall_mean)^2\n",
        "\n",
        "# Calculate between-group variance as the average of squared deviations\n",
        "between_group_variance <- mean(squared_deviations)\n",
        "\n",
        "# Print the calculated between-group variance\n",
        "print(paste(\"Between-Group Variance:\", between_group_variance))"
      ],
      "metadata": {
        "colab": {
          "base_uri": "https://localhost:8080/"
        },
        "id": "o0ZTUdHs8wpt",
        "outputId": "d3cb7203-7894-4d0d-f24e-f8288919366d"
      },
      "execution_count": null,
      "outputs": [
        {
          "output_type": "stream",
          "name": "stdout",
          "text": [
            "[1] \"Between-Group Variance: 11.5555555555556\"\n"
          ]
        }
      ]
    },
    {
      "cell_type": "markdown",
      "source": [
        "**Theil index (economy difference)**"
      ],
      "metadata": {
        "id": "a-sxFFC_0XuE"
      }
    },
    {
      "cell_type": "code",
      "source": [
        "# Example data: income distribution\n",
        "income <- c(1000, 2000, 3000, 4000, 5000)  # Income values\n",
        "\n",
        "# Calculate mean income\n",
        "mean_income <- mean(income)\n",
        "\n",
        "# Calculate Theil T Index\n",
        "theil_t <- sum((income / mean_income) * log(income / mean_income)) / length(income)\n",
        "\n",
        "# Calculate Theil L Index\n",
        "theil_l <- sum(log(income / mean_income)) / length(income) #mean log deviation\n",
        "\n",
        "# Print the calculated Theil T and Theil L Indices\n",
        "print(paste(\"Theil T Index:\", theil_t))\n",
        "print(paste(\"Theil L Index:\", theil_l))"
      ],
      "metadata": {
        "colab": {
          "base_uri": "https://localhost:8080/"
        },
        "id": "Hwp5atGxx_bL",
        "outputId": "586032cf-2e0e-4065-aeb2-e2bba37fece2"
      },
      "execution_count": null,
      "outputs": [
        {
          "output_type": "stream",
          "name": "stdout",
          "text": [
            "[1] \"Theil T Index: 0.119687593583509\"\n",
            "[1] \"Theil L Index: -0.141113940111701\"\n"
          ]
        }
      ]
    },
    {
      "cell_type": "markdown",
      "source": [
        "**Kunst−Mackenbach Index(health inequality across different socioeconomic groups)**"
      ],
      "metadata": {
        "id": "w-HB8ExJ3ngZ"
      }
    },
    {
      "cell_type": "code",
      "source": [
        "# Simulated example data: health indicator values and socioeconomic distribution\n",
        "health_values <- c(75, 80, 85, 90, 95, 100)  # Health indicator values\n",
        "socioeconomic_percentiles <- c(10, 50, 90)    # Percentiles of socioeconomic distribution\n",
        "\n",
        "# Calculate the Kunst-Mackenbach Index\n",
        "q_10 <- quantile(health_values, probs = socioeconomic_percentiles[1]/100)\n",
        "q_50 <- quantile(health_values, probs = socioeconomic_percentiles[2]/100)\n",
        "q_90 <- quantile(health_values, probs = socioeconomic_percentiles[3]/100)\n",
        "\n",
        "kunst_mackenbach_index <- 0.5 * (q_90 + q_10) / q_50\n",
        "\n",
        "# Print the calculated Kunst-Mackenbach Index\n",
        "print(paste(\"Kunst-Mackenbach Index:\", kunst_mackenbach_index))"
      ],
      "metadata": {
        "colab": {
          "base_uri": "https://localhost:8080/"
        },
        "id": "ytFce-QA0XPn",
        "outputId": "cf5296ca-0bd2-4e7a-d515-029ad9f6649f"
      },
      "execution_count": null,
      "outputs": [
        {
          "output_type": "stream",
          "name": "stdout",
          "text": [
            "[1] \"Kunst-Mackenbach Index: 1\"\n"
          ]
        }
      ]
    }
  ]
}